{
 "cells": [
  {
   "cell_type": "markdown",
   "metadata": {},
   "source": [
    "# Creating a Wordle Game!\n",
    "\n",
    "Over the next two class days, we will create a simple Wordle game! If you are not familiar with the game, you can play it at this link ([Wordle](https://www.nytimes.com/games/wordle/index.html)). "
   ]
  },
  {
   "cell_type": "markdown",
   "metadata": {},
   "source": [
    "## Step 1: How many words are in each list?\n",
    "Before we can start writing code for the game, we need to familiarize ourselves with the lists of valid words. Note that the list of words that are possible to be the solution is a _smaller_ list than the total list of allowed guesses. To start with, lets find out exactly how many words are in each list. Write pieces of code that will count (and then print) the total number of words in each of the two .txt files included in this lab (`validGuesses.txt` and `secretWords.txt`)."
   ]
  },
  {
   "cell_type": "code",
   "execution_count": null,
   "metadata": {},
   "outputs": [],
   "source": [
    "# Count the total number of possible wordle secret words\n",
    "\n"
   ]
  },
  {
   "cell_type": "code",
   "execution_count": null,
   "metadata": {},
   "outputs": [],
   "source": [
    "# Count the total number of valid guesses\n"
   ]
  },
  {
   "cell_type": "markdown",
   "metadata": {},
   "source": [
    "## Step 2: Get a secret word from the list\n",
    "Use your file skils to create a function called `getSecretWord()` which takes as a parameter `n` and returns the `n`th word in the list. Test your function by using the function to get both the first and last words from the list (information from step 1 will be helpful to get the last word). Also, use the `random.randint()` function to get a random word from the list."
   ]
  },
  {
   "cell_type": "code",
   "execution_count": null,
   "metadata": {},
   "outputs": [],
   "source": [
    "import random\n",
    "\n",
    "def getSecretWord(n):\n",
    "    return\n",
    "\n",
    "\n",
    "# test your function\n",
    "\n",
    "# Use the function to get the first word from the list (aback)\n",
    "# Use the function to get the las word from the list (zonal)\n",
    "# Use the function to pull a random word from the list"
   ]
  },
  {
   "cell_type": "markdown",
   "metadata": {},
   "source": [
    "## Step 3: Check that a guess is valid\n",
    "An important step in writing this program will be checking to make sure the user has entered a valid guess. For example the word \"horse\" is a valid guess, but \"abcde\" is not. Write a function with one parameter (the word being guessed) and check that the guess is valid. The function should return `True` if the guess is valid and `False` if the guess is invalid.\n",
    "\n",
    "__Hints:__\n",
    "* the guess is a string and is a valid guess if it is _equal_ to one of of the words in `validGuesses.txt`.\n",
    "* remember that each line in `validGuesses.txt` ends with the newline character `\\n`. Notice that this means the string \"horse\" and \"horse\\n\" are not equal, so this will need to be addressed."
   ]
  },
  {
   "cell_type": "code",
   "execution_count": null,
   "metadata": {},
   "outputs": [],
   "source": [
    "def isValid():\n",
    "    return\n",
    "\n",
    "\n",
    "# Test your function:\n",
    "print(isValid(\"horse\")) # should return True\n",
    "print(isValid(\"abcde\")) # should return False"
   ]
  },
  {
   "cell_type": "markdown",
   "metadata": {},
   "source": [
    "## Step 4: Comparing a guess to the secret word\n",
    "This step requires a little bit of string manipulation (we will spend more time on this in the next couple of weeks). We would like to write a function with two parameters: the `secret_word` and the users `guess`. We would like the function to generate a string (with 5 characters) which represents how the `guess` compares to the `secret_word`. As a suggestion (feel free to make a different choice if you wish), we will use 'O' if the character in the `guess` is in exactly the right spot, '#' if the character appears in the `secret_word` but is in the wrong place, and 'X' if the letter does not appear in the `secret_word`. "
   ]
  },
  {
   "cell_type": "code",
   "execution_count": null,
   "metadata": {},
   "outputs": [],
   "source": [
    "# Example 1:\n",
    "# How to seperate a string into its component letters\n",
    "# use [n] to access the nth character in a string\n",
    "# (note that counting starts at 0)\n",
    "\n",
    "word = \"horse\"\n",
    "print(word[0])\n",
    "print(word[1])\n",
    "print(word[2])\n",
    "print(word[3])\n",
    "print(word[4])"
   ]
  },
  {
   "cell_type": "code",
   "execution_count": null,
   "metadata": {},
   "outputs": [],
   "source": [
    "# Example 2:\n",
    "# Accessing letters of a word using a loop\n",
    "# since we know the words will all have 5 letters, the following loop will suffice:\n",
    "word = \"horse\"\n",
    "for i in range(5):\n",
    "    print(word[i])"
   ]
  },
  {
   "cell_type": "code",
   "execution_count": null,
   "metadata": {},
   "outputs": [],
   "source": [
    "# Example 3:\n",
    "# how to check if a letter is in a word\n",
    "if \"h\" in \"horse\":\n",
    "    print(\"True\")\n",
    "else:\n",
    "    print(\"False\")\n",
    "\n",
    "if \"x\" in \"horse\":\n",
    "    print(\"True\")\n",
    "else:\n",
    "    print(\"False\")"
   ]
  },
  {
   "cell_type": "code",
   "execution_count": null,
   "metadata": {},
   "outputs": [],
   "source": [
    "# Write a function which takes two words as parameters (input should not appear in the function)\n",
    "# THe function should return a (5 character) string consisting of \"X\", \"#\", \"O\".\n",
    "\n",
    "def compareGuess(guess, secret_word):\n",
    "    return\n",
    "\n",
    "\n",
    "# Testing function\n",
    "print(compareGuess(\"horse\", \"solar\")) # should return \"XO##X\"\n",
    "print(compareGuess(\"horse\", \"choir\")) # should return \"###XX\"\n",
    "print(compareGuess(\"horse\", \"house\")) # should return \"OOXOO\"\n",
    "print(compareGuess(\"horse\", \"shore\")) # should return \"####O\"\n",
    "print(compareGuess(\"horse\", \"horse\")) # should return \"OOOOO\""
   ]
  },
  {
   "cell_type": "markdown",
   "metadata": {},
   "source": [
    "__Note:__\n",
    "The code above is likely not _exactly_ right, and the problem arises when words have repeated letters. For example, the output for\n",
    "`compareGuess(\"hoops\", \"shore\")` should be `#XOX#` to sginify that the second \"o\" is in the correct spot, and the secret word does not contain another \"o\". However, the output for your program likely is `##OX#`. You can spend time trying to fix this if you wish, or you can leave the problem alone, and the end game will just be slightly different from the original once you are done."
   ]
  },
  {
   "cell_type": "markdown",
   "metadata": {},
   "source": [
    "## Step 5: Create a functioning game\n",
    "The purpose of this step is to put the steps together to create a basic functioning game. This program should do the following:\n",
    "1) Use a predetermined `secret_word` (so that the code can be tested thouroughly)\n",
    "2) Ask the user to guess a word\n",
    "3) Check that the word is valid (if not valid, tell the user and guess again)\n",
    "4) generate a comparison string\n",
    "5) print the guess followed by the comparison string\n",
    "6) repeat steps 2 - 5 until either the secret word is correctly guessed, or the user has made the maximum number of guesses (6 guesses is the maximum)\n",
    "7) If the user won, tell them and tell them how many guesses they made. If the user lost, tell them they failed to solve the puzzle."
   ]
  },
  {
   "cell_type": "markdown",
   "metadata": {},
   "source": [
    "__Sample Outputs__\n",
    "\n",
    "The following sample output should result from `secret_word = \"zonal\"` and the user making the guesses `horse`, `zebra`, `zonal`:\n",
    "```\n",
    "horse\n",
    "XOXXX\n",
    "zebra\n",
    "OXXX#\n",
    "zonal\n",
    "OOOOO\n",
    "You solved the puzzle in 3 guesses!\n",
    "```\n",
    "\n",
    "The following sample output should result from `secret_word = \"share\"` and the user making the guesses `house`, `shale`, `shake`, `shape`, `shade`, `shame`:\n",
    "```\n",
    "house\n",
    "#XX#O\n",
    "shale\n",
    "OOOXO\n",
    "shake\n",
    "OOOXO\n",
    "shape\n",
    "OOOXO\n",
    "shade\n",
    "OOOXO\n",
    "shame\n",
    "OOOXO\n",
    "You failed to solve the puzzle. The secret word was share\n",
    "```"
   ]
  },
  {
   "cell_type": "code",
   "execution_count": null,
   "metadata": {},
   "outputs": [],
   "source": [
    "# As we have noticed in class, Jupyter notebook is sometimes slow to print things. To fix this problem,\n",
    "# copy and paste the below command immediately after a print statement to guaruntee it prints immediately\n",
    "# sys.stdout.flush()\n",
    "import sys\n",
    "\n",
    "\n",
    "# copy necesssary functions from above\n",
    "\n",
    "def main():\n",
    "    secret_word = \"zonal\" # determining the secret word allows you to test the code\n",
    "\n",
    "\n",
    "\n",
    "main()"
   ]
  },
  {
   "cell_type": "markdown",
   "metadata": {},
   "source": [
    "## Step 6: Saving your results over time\n",
    "We would like to save the results over time, so that we can print some useful statistics. We will keep track of Total games played, total wins, and how many guesses for each win. We will store the information in `wordleStats.txt` and we will create two functions to help us access that information:\n",
    "\n",
    "* A function to reset the stats to the default\n",
    "* A function that takes parameters of a game and updates the stats\n"
   ]
  },
  {
   "cell_type": "code",
   "execution_count": null,
   "metadata": {},
   "outputs": [],
   "source": [
    "# Function to reset statistics\n",
    "def resetStats():\n",
    "    return\n",
    "\n",
    "# The wordleStats should be returned to the default after running this code.\n",
    "resetStats()"
   ]
  },
  {
   "cell_type": "markdown",
   "metadata": {},
   "source": [
    "The function `updateStats()` needs one parameter, whether the user succesfully solved the puzzle. The strategy for doing this will be to first, open and read the file, copy the current information into variables (possibly using the `split` function on each line) then close the file. Next update the variables\n",
    "\n",
    "* Open and _read_ the `wordleStats.txt` file\n",
    "* Create variables for `totalGames` and `totalWins` (you may need to use the `split` function)\n",
    "* Close the `wordleStats.txt` file\n",
    "* Update the variables\n",
    "* Open and _write_ the `wordleStats.txt` file\n",
    "* Write each of the lines using the updated variables\n",
    "* Close the `wordleStats.txt` file\n"
   ]
  },
  {
   "cell_type": "code",
   "execution_count": null,
   "metadata": {},
   "outputs": [],
   "source": [
    "# Function to update the statistics after a game has been played\n",
    "\n",
    "def updateStats(win):\n",
    "    return\n",
    "\n",
    "\n",
    "# test your function. Run the function 9 times with win as True and 1 time with win as False\n",
    "# The text file should read "
   ]
  },
  {
   "cell_type": "markdown",
   "metadata": {},
   "source": [
    "## Step 7: Putting it all together\n",
    "We will finish this in the python script. Copy and paste your functions into the appropriate place in the python file `wordle.py`. Running the line of code below should do the following:\n",
    "* Generate a random secret word from the list (using `import random` and the `random.randint()` function)\n",
    "* Play a game of wordle\n",
    "* Tell the user if they won or lost (if they lost, tell them the secret word, if they won tell them how many guesses it took them to solve the puzzle)\n",
    "* Update `wordleStats.txt`\n",
    "* Print the total games played and the total wins"
   ]
  },
  {
   "cell_type": "code",
   "execution_count": 2,
   "metadata": {},
   "outputs": [
    {
     "name": "stdout",
     "output_type": "stream",
     "text": [
      "hello world\n"
     ]
    }
   ],
   "source": [
    "# Do not change this box. Running this code will run the python file (in the same folder!) named wordle.py\n",
    "\n",
    "%run wordle.py"
   ]
  }
 ],
 "metadata": {
  "kernelspec": {
   "display_name": "Python 3",
   "language": "python",
   "name": "python3"
  },
  "language_info": {
   "codemirror_mode": {
    "name": "ipython",
    "version": 3
   },
   "file_extension": ".py",
   "mimetype": "text/x-python",
   "name": "python",
   "nbconvert_exporter": "python",
   "pygments_lexer": "ipython3",
   "version": "3.13.0"
  }
 },
 "nbformat": 4,
 "nbformat_minor": 2
}

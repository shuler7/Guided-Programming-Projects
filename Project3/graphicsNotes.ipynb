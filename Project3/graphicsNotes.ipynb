{
 "cells": [
  {
   "attachments": {
    "canvas.png": {
     "image/png": "[encoded data removed]"
    }
   },
   "cell_type": "markdown",
   "metadata": {},
   "source": [
    "# Graphics\n",
    "\n",
    "* Many programming languages include a library for computer graphics \n",
    "* A __library__ is a pre-written collection of functions usually centered around a theme (graphics, networking, math, sound, etc.)\n",
    "* Python provides many libraries: https://docs.python.org/3/library/\n",
    "* Using libraries (rather than starting from scratch) enables you to write programs faster\n",
    "* Libraries are centered around functions because we know functions are abstractions of algorithms.\n",
    "    * The library that we will be using was created by John Zelle of Wartburg College\n",
    "    * Here is the official graphics reference document https://mcsp.wartburg.edu/zelle/python/graphics/graphics.pdf\n",
    "\n",
    "## The Canvas\n",
    "* All graphics in Python are drawn in a separate window called the canvas.\n",
    "* The canvas is laid out similarly to the Cartesian plane, but with a flipped y-axis.\n",
    "\n",
    "![canvas.png](attachment:canvas.png)\n",
    "\n",
    "\n",
    "\n",
    "\n",
    "## Graphics and Colors\n",
    "* Everything represented by a computer is fundamentally comprised of discrete numeric values… Including things like music, images, sounds, etc.\n",
    "* A color, for example, is represented by three values (between 0 and 255).\n",
    "* These values dictate how much Red, Green, and Blue comprise the color. What are these colors? \n",
    "* A link to a handy RGB color calculator: https://www.rapidtables.com/web/color/RGB_Color.html\n",
    "```\n",
    "0, 0, 0 #black\n",
    "255, 255, 255 #white\n",
    "255, 0, 0 #red\n",
    "0, 255, 0 #green\n",
    "0, 0, 255 #blue\n",
    "255, 0, 255 #purple\n",
    "```\n",
    "\n",
    "## Your first Graphics program\n",
    "\n",
    "For more information about the functions included in our cs1.graphics library, please see the reference link on Brightspace ([Graphics Reference](https://learn.sewanee.edu/d2l/le/content/33895/viewContent/311486/View))."
   ]
  },
  {
   "cell_type": "markdown",
   "metadata": {},
   "source": [
    "# Simple Shapes, Lines, Text, and Colors"
   ]
  },
  {
   "cell_type": "markdown",
   "metadata": {},
   "source": [
    "## Circle Example"
   ]
  },
  {
   "cell_type": "code",
   "execution_count": 2,
   "metadata": {},
   "outputs": [],
   "source": [
    "# Be sure the following import statement is at the top of all the code you write today.\n",
    "# It allows you to call the functions in the graphics library.\n",
    "# This library can be found at this link: https://mcsp.wartburg.edu/zelle/python/graphics.py\n",
    "\n",
    "# This imports graphics functions. Note that the file titles \"graphics.py\" must\n",
    "# be in the same folder as this python notebook.\n",
    "from graphics import *\n",
    "\n",
    "# This defines \"canvas\" as a global variable. In general, not a great practice\n",
    "# but is OK for our purposes right now\n",
    "canvas = GraphWin(\"My First Graphics Window\", 500, 500)\n",
    "canvas.setBackground(\"white\")\n",
    "\n",
    "def main():\n",
    "    # Create a circle (named \"c\") centered at the Point (250, 250) with radius 50\n",
    "    c = Circle(Point(250, 250), 50) \n",
    "\n",
    "    # Sets the outline color to \"red\" (comment out the line below to see what happens)\n",
    "    c.setOutline(\"red\")\n",
    "\n",
    "    # Fills the circle with \"red\" (comment out the line below to see what happens\n",
    "    c.setFill(\"red\")\n",
    "\n",
    "    # Draws the circle, (named \"c\"), onto the canvas (named \"canvas\")\n",
    "    c.draw(canvas)\n",
    "\n",
    "    # pause for click in window (comment out line below to see what happens)\n",
    "    canvas.getMouse()\n",
    "    \n",
    "    # closes the canvas (comment out line below to see what happens)\n",
    "    # (spoiler, it will probably crash...)\n",
    "    canvas.close()\n",
    "\n",
    "main()"
   ]
  },
  {
   "cell_type": "markdown",
   "metadata": {},
   "source": [
    "__Important__: To draw something on the canvas, the following steps have to happen:\n",
    "* The object that you want to draw has to be created\n",
    "* The characteristics of the object need to be set\n",
    "* The object has to be drawn on the canvas "
   ]
  },
  {
   "cell_type": "markdown",
   "metadata": {},
   "source": [
    "## Rectangle Example"
   ]
  },
  {
   "cell_type": "code",
   "execution_count": 1,
   "metadata": {},
   "outputs": [],
   "source": [
    "# This program draws a rectangle\n",
    "\n",
    "from graphics import *\n",
    "\n",
    "canvas = GraphWin(\"My First Graphics Window\", 500, 500)\n",
    "canvas.setBackground(\"white\")\n",
    "\n",
    "def main():\n",
    "\n",
    "    # Creates a rectangle object having opposite corners at point1 and point2.\n",
    "    my_rectangle = Rectangle(Point(100,100), Point(120,200))\n",
    "\n",
    "    # Define additional characteristics of the rectangle\n",
    "    # Note that neither of these are necessary\n",
    "    my_rectangle.setOutline(\"black\")\n",
    "    my_rectangle.setFill(\"orange\")\n",
    "\n",
    "    # Draw the rectangle in the canvas\n",
    "    my_rectangle.draw(canvas)\n",
    "\n",
    "\n",
    "    canvas.getMouse()\n",
    "    canvas.close()\n",
    "\n",
    "\n",
    "\n",
    "main()"
   ]
  },
  {
   "cell_type": "markdown",
   "metadata": {},
   "source": [
    "## Oval Example"
   ]
  },
  {
   "cell_type": "code",
   "execution_count": null,
   "metadata": {},
   "outputs": [],
   "source": [
    "# This program draws an oval\n",
    "\n",
    "from graphics import *\n",
    "\n",
    "canvas = GraphWin(\"My First Graphics Window\", 500, 500)\n",
    "canvas.setBackground(\"white\")\n",
    "\n",
    "def main():\n",
    "\n",
    "    # Creates an oval object in the bounding box determined by point1 and point2.\n",
    "    my_oval = Oval(Point(100,100), Point(300,200))\n",
    "\n",
    "    # Define additional characteristics of the oval\n",
    "    # Note that neither of these are necessary\n",
    "    my_oval.setOutline(\"black\")\n",
    "    my_oval.setFill(\"orange\")\n",
    "\n",
    "    # Draw the oval in the canvas\n",
    "    my_oval.draw(canvas)\n",
    "\n",
    "\n",
    "    canvas.getMouse()\n",
    "    canvas.close()\n",
    "\n",
    "\n",
    "\n",
    "main()"
   ]
  },
  {
   "cell_type": "markdown",
   "metadata": {},
   "source": [
    "## Polygon Example"
   ]
  },
  {
   "cell_type": "code",
   "execution_count": 7,
   "metadata": {},
   "outputs": [],
   "source": [
    "# This program draws a polygon with three sides (AKA a triangle)\n",
    "\n",
    "from graphics import *\n",
    "\n",
    "canvas = GraphWin(\"My First Graphics Window\", 500, 500)\n",
    "canvas.setBackground(\"white\")\n",
    "\n",
    "def main():\n",
    "\n",
    "    # Constructs a polygon with the given points as vertices. The number of sides\n",
    "    # is determined by the number of points listed (also accepts a list as input).\n",
    "    my_polygon = Polygon(Point(100,100), Point(300,200), Point(500,500))\n",
    "\n",
    "    # Define additional characteristics of the triangle\n",
    "    # Note that neither of these are necessary\n",
    "    my_polygon.setOutline(\"black\")\n",
    "    my_polygon.setFill(\"orange\")\n",
    "\n",
    "    # Draw the triangle in the canvas\n",
    "    my_polygon.draw(canvas)\n",
    "\n",
    "\n",
    "    canvas.getMouse()\n",
    "    canvas.close()\n",
    "\n",
    "\n",
    "\n",
    "main()"
   ]
  },
  {
   "cell_type": "markdown",
   "metadata": {},
   "source": [
    "## Lines Example"
   ]
  },
  {
   "cell_type": "code",
   "execution_count": 9,
   "metadata": {},
   "outputs": [],
   "source": [
    "# This program draws three lines\n",
    "\n",
    "from graphics import *\n",
    "\n",
    "canvas = GraphWin(\"My First Graphics Window\", 500, 500)\n",
    "canvas.setBackground(\"white\")\n",
    "\n",
    "def main():\n",
    "    # Constructs a line segment from point1 to point2.\n",
    "    line1 = Line(Point(0,0), Point(50,50))\n",
    "    line1.setFill(\"pink\") # Sets color\n",
    "    line1.draw(canvas) # draws the line to the canvas\n",
    "\n",
    "    line2 = Line(Point(50,50), Point(250,50))\n",
    "    line2.setFill(\"green\")\n",
    "    line2.draw(canvas)\n",
    "\n",
    "    line3 = Line(Point(250,50), Point(0,500))\n",
    "    line3.setFill(\"yellow\")\n",
    "    line3.draw(canvas)\n",
    "\n",
    "\n",
    "    canvas.getMouse()\n",
    "    canvas.close()\n",
    "\n",
    "\n",
    "\n",
    "main()"
   ]
  },
  {
   "cell_type": "markdown",
   "metadata": {},
   "source": [
    "## Text Example"
   ]
  },
  {
   "cell_type": "code",
   "execution_count": 15,
   "metadata": {},
   "outputs": [],
   "source": [
    "# This program draws text in the canvas\n",
    "\n",
    "from graphics import *\n",
    "\n",
    "canvas = GraphWin(\"My First Graphics Window\", 500, 500)\n",
    "canvas.setBackground(\"white\")\n",
    "\n",
    "def main():\n",
    "    # Constructs a text centered at the Point containing the String.\n",
    "    # The text is displayed horizontally.\n",
    "    message1 = Text(Point(45,18), \"Hello World!\")\n",
    "    message1.draw(canvas)\n",
    "\n",
    "    # Change the font size (Sizes from 5 to 36 points are legal.)\n",
    "    message2 = Text(Point(100,50), \"Hello Big World!\")\n",
    "    message2.setSize(20)\n",
    "    message2.draw(canvas)\n",
    "\n",
    "    # Change the font face (Possible values are \"helvetica\", \"courier\", \"times roman\", and \"arial\".)\n",
    "    message3 = Text(Point(100,80), \"Hello Courier World!\")\n",
    "    message3.setFace(\"courier\")\n",
    "    message3.draw(canvas)\n",
    "\n",
    "    # Changes font to the given style (Possible values are \"normal\", \"bold\", \"italic\", and \"bold italic\")\n",
    "    message4 = Text(Point(65,100), \"Hello Italic World!\")\n",
    "    message4.setStyle(\"italic\")\n",
    "    message4.draw(canvas)\n",
    "\n",
    "    # Sets the color of the text\n",
    "    message5 = Text(Point(65,120), \"Hello Pink World!\")\n",
    "    message5.setTextColor(\"pink\")\n",
    "    message5.draw(canvas)\n",
    "\n",
    "\n",
    "    canvas.getMouse()\n",
    "    canvas.close()\n",
    "\n",
    "\n",
    "\n",
    "main()\n"
   ]
  },
  {
   "cell_type": "markdown",
   "metadata": {},
   "source": [
    "# Getting Mouse / Keyboard Input"
   ]
  },
  {
   "cell_type": "markdown",
   "metadata": {},
   "source": [
    "## Entry Box"
   ]
  },
  {
   "cell_type": "code",
   "execution_count": null,
   "metadata": {},
   "outputs": [],
   "source": [
    "# This program creates a textbox\n",
    "\n",
    "from graphics import *\n",
    "\n",
    "canvas = GraphWin(\"My First Graphics Window\", 500, 500)\n",
    "canvas.setBackground(\"white\")\n",
    "\n",
    "def main():\n",
    "    message = Text(Point(250,25), \"Click in the box to type. Click outside the box to end the program.\")\n",
    "    message.draw(canvas)\n",
    "    # Constructs an Entry having the given center point and width. The width\n",
    "    # is specified in number of characters of text that can be displayed.\n",
    "    # Note that all the text functions can be used to change font etc.\n",
    "    inputBox = Entry(Point(100,100), 12)\n",
    "    inputBox.draw(canvas)\n",
    "\n",
    "\n",
    "\n",
    "    canvas.getMouse() #pauses here to wait for mouse click\n",
    "\n",
    "    # Saves whatever is typed in the box\n",
    "    typed_stuff = inputBox.getText()\n",
    "\n",
    "    # Closes the canvas\n",
    "    canvas.close()\n",
    "\n",
    "    print(\"This is what you typed in the box:\", typed_stuff)\n",
    "\n",
    "\n",
    "\n",
    "main()"
   ]
  },
  {
   "cell_type": "markdown",
   "metadata": {},
   "source": [
    "## Getkey Values"
   ]
  },
  {
   "cell_type": "code",
   "execution_count": null,
   "metadata": {},
   "outputs": [],
   "source": [
    "# This program prints the value of the key that gets pressed.\n",
    "from graphics import *\n",
    "\n",
    "canvas = GraphWin(\"My First Graphics Window\", 500, 500)\n",
    "canvas.setBackground(\"white\")\n",
    "\n",
    "def main():\n",
    "    message = Text(Point(250,25), \"Press any key on the keyboard to exit\")\n",
    "    message.draw(canvas)\n",
    "    \n",
    "    # Pauses for the user to type a key on the keyboard and returns a string representing the\n",
    "    # key that was pressed.\n",
    "    keyString = canvas.getKey() \n",
    "    print(keyString)\n",
    "    print(type(keyString))\n",
    "\n",
    "    canvas.close()\n",
    "\n",
    "\n",
    "main()\n",
    "\n"
   ]
  },
  {
   "cell_type": "markdown",
   "metadata": {},
   "source": [
    "# A Couple of Interesting examples"
   ]
  },
  {
   "cell_type": "markdown",
   "metadata": {},
   "source": [
    "## Screensaver"
   ]
  },
  {
   "cell_type": "code",
   "execution_count": 5,
   "metadata": {},
   "outputs": [],
   "source": [
    "# Screensaver\n",
    "from graphics import *\n",
    "\n",
    "screen_width = 500\n",
    "screen_height = 300\n",
    "canvas = GraphWin(\"Screensaver\", screen_width, screen_height)\n",
    "\n",
    "def main():\n",
    "    # Set the message, and approximate the width of the message\n",
    "    message = \"Bored in CS157\"\n",
    "    width = len(message) * 8\n",
    "    height = 12\n",
    "\n",
    "    # Sets the minimum and maximum values for showing the message\n",
    "    min_x = width/2\n",
    "    min_y = height/2\n",
    "    max_x = screen_width - width/2\n",
    "    max_y = screen_height - height/2\n",
    "\n",
    "    # Sets initial x and y location where the message will be drawn\n",
    "    x = min_x\n",
    "    y = min_y\n",
    "\n",
    "    # Sets the initial changes in x and y\n",
    "    dx = 2\n",
    "    dy = 2\n",
    "\n",
    "    # Draw the initial message\n",
    "    screensaver = Text(Point(x,y), message)\n",
    "\n",
    "    # Loop will continue until \n",
    "    clickPoint = None\n",
    "    while clickPoint == None:\n",
    "        # update x and y positions\n",
    "        x = x + dx\n",
    "        y = y + dy\n",
    "\n",
    "\n",
    "        if x >= max_x or x<=min_x:\n",
    "            dx = -dx\n",
    "        \n",
    "        if y>= max_y or y<=min_y:\n",
    "            dy = -dy\n",
    "        \n",
    "        screensaver.undraw() #remove the message from the screen\n",
    "        screensaver = Text(Point(x,y), message) #update the position\n",
    "        screensaver.draw(canvas) #redraw the message to the screen\n",
    "        clickPoint = canvas.checkMouse()\n",
    "\n",
    "        update(25) #sets the frame rate\n",
    "\n",
    "\n",
    "\n",
    "    canvas.close()\n",
    "    return x\n",
    "\n",
    "\n",
    "x=main()"
   ]
  },
  {
   "cell_type": "markdown",
   "metadata": {},
   "source": [
    "## Move around a screen"
   ]
  },
  {
   "cell_type": "code",
   "execution_count": 15,
   "metadata": {},
   "outputs": [],
   "source": [
    "# Adventures of Square\n",
    "\n",
    "from graphics import *\n",
    "\n",
    "screen_width = 800\n",
    "screen_height = 500\n",
    "canvas = GraphWin(\"Adventures of Square (use arrow keys to move, Escape to end)\", screen_width, screen_height)\n",
    "\n",
    "def main():\n",
    "    # initialize variables\n",
    "    x = 100\n",
    "    y = 100\n",
    "    width = 49\n",
    "    change = width+1\n",
    "\n",
    "    square_hero = Rectangle(Point(x,y),Point(x+width,y+width))\n",
    "    square_hero.setFill(\"orange\")\n",
    "    square_hero.draw(canvas)\n",
    "\n",
    "    # press escape to exit the game loop    \n",
    "    key = None\n",
    "    while key != \"Escape\":\n",
    "\n",
    "        key = canvas.getKey() # waits for a key to be pressed\n",
    "\n",
    "        square_hero.undraw() # removes our hero from the screen\n",
    "\n",
    "        if key == \"Right\":\n",
    "            x = x + change\n",
    "            if x >= screen_width:\n",
    "                x = 0\n",
    "        elif key == \"Left\":\n",
    "            x = x - change\n",
    "            if x < 0:\n",
    "                x=screen_width - change\n",
    "        elif key == \"Down\":\n",
    "            y = y + change\n",
    "            if y >=screen_height:\n",
    "                y=0\n",
    "        elif key == \"Up\":\n",
    "            y = y - change\n",
    "            if y<0:\n",
    "                y = screen_height - change\n",
    "        \n",
    "        # redraw our hero\n",
    "        square_hero = Rectangle(Point(x,y),Point(x+width,y+width))\n",
    "        square_hero.setFill(\"orange\")\n",
    "        square_hero.draw(canvas)\n",
    "\n",
    "    canvas.close()    \n",
    "\n",
    "\n",
    "main()"
   ]
  }
 ],
 "metadata": {
  "kernelspec": {
   "display_name": "Python 3",
   "language": "python",
   "name": "python3"
  },
  "language_info": {
   "codemirror_mode": {
    "name": "ipython",
    "version": 3
   },
   "file_extension": ".py",
   "mimetype": "text/x-python",
   "name": "python",
   "nbconvert_exporter": "python",
   "pygments_lexer": "ipython3",
   "version": "3.13.0"
  },
  "varInspector": {
   "cols": {
    "lenName": 16,
    "lenType": 16,
    "lenVar": 40
   },
   "kernels_config": {
    "python": {
     "delete_cmd_postfix": "",
     "delete_cmd_prefix": "del ",
     "library": "var_list.py",
     "varRefreshCmd": "print(var_dic_list())"
    },
    "r": {
     "delete_cmd_postfix": ") ",
     "delete_cmd_prefix": "rm(",
     "library": "var_list.r",
     "varRefreshCmd": "cat(var_dic_list()) "
    }
   },
   "types_to_exclude": [
    "module",
    "function",
    "builtin_function_or_method",
    "instance",
    "_Feature"
   ],
   "window_display": false
  }
 },
 "nbformat": 4,
 "nbformat_minor": 2
}

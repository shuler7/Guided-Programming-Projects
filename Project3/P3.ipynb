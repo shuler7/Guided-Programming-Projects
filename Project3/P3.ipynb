{
 "cells": [
  {
   "cell_type": "markdown",
   "metadata": {},
   "source": [
    "# Project 3 - Visualizing Prime Numbers\n",
    "Prime numbers - any numbers which are only divisible by 1 Since every number can be written as a unique product of prime numbers (for example, $12 = 2\\cdot2\\cdot3$), they are considered the building blocks of all natural numbers. In modern times, prime numbers play a crucial role in encryption algorithms, providing the foundation for secure data transmission and preventing unauthorized access to sensitive information.\n",
    "\n",
    "The Sieve of Eratosthenes is a simple ancient algorithm used to find all prime numbers up to a specified limit. It works by creating a list of numbers from 2 to the desired maximum and iteratively marking the multiples of each prime number starting from 2. First, 2 is marked as prime, and then all of its multiples are crossed out. The next unmarked number (3) is then marked as prime, and all of its multiples are crossed out, and so on. This process continues until all numbers up to the limit have been either marked as prime or crossed out as multiples of smaller primes. The remaining unmarked numbers are the primes.\n",
    "\n",
    "This is our goal for this project - to create an animation which visualizes the process used by the Sieve of Eratosthenes. For more about this algorithm, see the [Wikipedia article](https://en.wikipedia.org/wiki/Sieve_of_Eratosthenes) (which includes a visual similar to the one we wish to create.)"
   ]
  },
  {
   "cell_type": "markdown",
   "metadata": {},
   "source": [
    "## Step 1: Prime Number Checker\n",
    "\n",
    "To start, we would like to create a modern algorithm capable of checking if a given number is prime. A prime number is a natural number greater than 1 (meaning 1 is not prime) that has no positive divisors other than 1 and itself. Here are some tips:\n",
    "\n",
    "* Name the function `is_prime()`\n",
    "\n",
    "* The function should take an integer `n` as its lone argument.\n",
    "\n",
    "* The function should return `True` if `n` is prime, and `False` if `n` is not prime.\n",
    "\n",
    "* The function should loop over values greater than 1 and smaller than `n`.\n",
    "    * Do you need to check all the way to `n`?\n",
    "    \n",
    "* If `n` is divisible by any of these numbers, then `n` is not prime!\n",
    "\n",
    "* Hint: the number `n` is divisible by `m` only if `n % m ==0` (i.e. the remainder after dividing by `m` is 0)."
   ]
  },
  {
   "cell_type": "code",
   "execution_count": null,
   "metadata": {},
   "outputs": [],
   "source": [
    "# Prime number checker\n",
    "\n",
    "def is_prime():\n",
    "    return\n",
    "\n",
    "\n",
    "# Test your program\n",
    "\n",
    "is_prime(1) # Should return False\n",
    "is_prime(7) # Should return True\n",
    "is_prime(82919) # Should return False\n",
    "is_prime(82913) # Should return True"
   ]
  },
  {
   "cell_type": "markdown",
   "metadata": {},
   "source": [
    "## Step 2: Draw a Grid\n",
    "\n",
    "To start the Sieve of Eratosthenes algorithm, we need to list out many numbers. We will use the `graphics` package to generate a grid.\n",
    "\n",
    "Guidelines for the grid:\n",
    "* The window is set to be 1000 wide and 750 high\n",
    "* Each of the squares in the grid is 50 x 50 (this means there will be 16 rows and 20 columns)\n",
    "* Choose whatever colors you like, but make sure it stands out from the background color\n",
    "* be careful with \"off-by-one errors\" (i.e. make sure you draw the last line on the right and bottom)\n",
    "\n",
    "tips:\n",
    "* Look through the `graphicsNotes` nootebook for useful examples of how to draw lines.\n",
    "* Use nested loops! Loop aver all of the rows (16 of them) and for each row loop over all of the columns (20 of them).\n",
    "* The final image should look something like this (except bigger and possibly with different colors)\n",
    "\n",
    "    <img src=\"img/grid.png\" width=500 height=375 />"
   ]
  },
  {
   "cell_type": "code",
   "execution_count": null,
   "metadata": {},
   "outputs": [],
   "source": [
    "# Create a function that draws a grid of squares\n",
    "from graphics import *\n",
    "\n",
    "canvas = GraphWin(\"Sieve of Eratosthenes\", 1000, 750)\n",
    "canvas.setBackground(\"white\")\n",
    "\n",
    "def draw_grid():\n",
    "    # edit this function\n",
    "\n",
    "def main():\n",
    "    draw_grid()\n",
    "    \n",
    "    canvas.getMouse() # pause to wait for mouse click\n",
    "    canvas.close()\n",
    "\n",
    "main()\n",
    "\n"
   ]
  },
  {
   "cell_type": "markdown",
   "metadata": {},
   "source": [
    "## Step 3: Add numbers to the grid\n",
    "\n",
    "Use a similar looping strategy to add numbers to the grid. Tips:\n",
    "\n",
    "Tips:\n",
    "* Treat each number as text and look through the `graphicsNotes` nootebook for useful examples of how to draw text.\n",
    "* Note that the `x` and `y` position for the text is the _center_ of where the text will appear.\n",
    "* The final image should look something like this (except bigger and possibly with different colors)\n",
    "\n",
    "    <img src=\"img/gridNumbers.png\" width=500 height=375 />\n"
   ]
  },
  {
   "cell_type": "code",
   "execution_count": null,
   "metadata": {},
   "outputs": [],
   "source": [
    "# Create a function that draws a grid of squares\n",
    "from graphics import *\n",
    "canvas = GraphWin(\"Sieve of Eratosthenes\", 1000, 750)\n",
    "canvas.setBackground(\"white\")\n",
    "\n",
    "def draw_grid():\n",
    "    # copy your draw_grid function from above\n",
    "\n",
    "def draw_numbers():\n",
    "    # edit this cell\n",
    "\n",
    "def main():\n",
    "    draw_grid()\n",
    "    canvas.getMouse() # pause to wait for mouse click\n",
    "    draw_numbers()\n",
    "    canvas.getMouse() # pause to wait for mouse click\n",
    "    canvas.close()\n",
    "\n",
    "main()"
   ]
  },
  {
   "cell_type": "markdown",
   "metadata": {},
   "source": [
    "## Step 4: Covering numbers\n",
    "\n",
    "We now want to add a function which can cover a given number with a rectangle of the appropriate size.\n",
    "\n",
    "Tips:\n",
    "* Start by finding the `row` and `column` that the given number is in.\n",
    "    * Since there are 20 columns, the `column` will be `(n-1) % 20` (the -1 corrects an off-by-one error)\n",
    "    * Since each row has 20 numbers, the `row` will be `(n-1) // 20` (the -1 corrects an off-by-one error)\n",
    "* Your rectangle may not be quite 50x50, try not to cover the gridlines.\n",
    "* Test your function by covering a number in the grid. If you remove the number 131, your image should look something like this:\n",
    "\n",
    "    <img src=\"img/coverNumber.png\" width=500 height=375 />"
   ]
  },
  {
   "cell_type": "code",
   "execution_count": null,
   "metadata": {},
   "outputs": [],
   "source": [
    "# Create a function that draws a grid of squares\n",
    "from graphics import *\n",
    "canvas = GraphWin(\"Sieve of Eratosthenes\", 1000, 750)\n",
    "canvas.setBackground(\"white\")\n",
    "\n",
    "def draw_grid():\n",
    "    # copy your draw_grid function from above\n",
    "\n",
    "def draw_numbers():\n",
    "    # copy your draw_numbers function from above\n",
    "\n",
    "def cover(n):\n",
    "    # draw a rectangle over the grid box containing  the number n\n",
    "\n",
    "def main():\n",
    "    \n",
    "    draw_grid()\n",
    "    canvas.getMouse() # pause to wait for mouse click\n",
    "    \n",
    "    draw_numbers()\n",
    "    canvas.getMouse() # pause to wait for mouse click\n",
    "\n",
    "    cover(131) # change this value to make sure the function is working properly\n",
    "    canvas.getMouse() # pause to wait for mouse click\n",
    "\n",
    "    canvas.close()\n",
    "\n",
    "main()"
   ]
  },
  {
   "cell_type": "markdown",
   "metadata": {},
   "source": [
    "## Step 5: Cover all Multiples of a prime\n",
    "\n",
    "Write a function which will cover all multiples of a given prime number `p`.\n",
    "\n",
    "tips:\n",
    "* Loop over all multiples of `p` that are <= 300.\n",
    "* Call the previous function each time through the loop to cover a new number.\n",
    "* At the end of the loop add the command `update(speed)`. This will slow the loop down so that you can see the animation progress.\n",
    "* Be careful with the starting values for the loop - for example, if `p=7` you don't want to cover the number 7, you want to cover 14, 21, 28, ...\n",
    "* If `p=7`, your image should look something like this at the end of the animation:\n",
    "\n",
    "    <img src=\"img/coverMultiples.png\" width=500 height=375 />\n"
   ]
  },
  {
   "cell_type": "code",
   "execution_count": null,
   "metadata": {},
   "outputs": [],
   "source": [
    "# Create a function that draws a grid of squares\n",
    "from graphics import *\n",
    "canvas = GraphWin(\"Sieve of Eratosthenes\", 1000, 750)\n",
    "canvas.setBackground(\"white\")\n",
    "\n",
    "def draw_grid():\n",
    "    # copy your draw_grid function from above\n",
    "\n",
    "def draw_numbers():\n",
    "    # copy your draw_numbers function from above\n",
    "\n",
    "def cover(n):\n",
    "    # copy your cover function from above\n",
    "\n",
    "def cover_multiples_of(p, speed):\n",
    "    # Write a (short) function that covers all multiples of p\n",
    "    while condition:\n",
    "        # do something\n",
    "        \n",
    "        update(speed) # this controls the speed of the animation\n",
    "        #end of loop\n",
    "\n",
    "def main():\n",
    "    \n",
    "    draw_grid()\n",
    "    canvas.getMouse() # pause to wait for mouse click\n",
    "    \n",
    "    draw_numbers()\n",
    "    canvas.getMouse() # pause to wait for mouse click\n",
    "\n",
    "    cover_multiples_of(7, 25) # change this value to make sure the function is working properly\n",
    "    canvas.getMouse() # pause to wait for mouse click\n",
    "\n",
    "    canvas.close()\n",
    "\n",
    "main()"
   ]
  },
  {
   "cell_type": "markdown",
   "metadata": {},
   "source": [
    "## Step 6: Put it all together\n",
    "\n",
    "Almost there! We will finish this in the python script. Copy and paste your functions into the appropriate place in the python file `SieveofEratosthenes.py`. The last thing that needs to be added is a loop in the main function. The loop should do the following:\n",
    "* Start at `n=2`. Check that 2 is prime (step 1). Since 2 is prime, cover all multiples of 2.\n",
    "* Check that `n=3` is prime (it is). Cover all multiples of 3.\n",
    "* Check that `n=4` is prime (it is not). Do nothing.\n",
    "* Continue in a loop until for as long as is necessary (all the way to `n=300`?).\n",
    "* Do something to let the user know the program is done.\n"
   ]
  },
  {
   "cell_type": "code",
   "execution_count": null,
   "metadata": {},
   "outputs": [],
   "source": [
    "# Do not change this box. Running this code will run the python file (in the same folder!) named SieveofEratosthenes.py\n",
    "\n",
    "%run SieveOfEratosthenes.py"
   ]
  },
  {
   "cell_type": "markdown",
   "metadata": {},
   "source": [
    "## Feedback Questions\n",
    "\n",
    "__In the cell below, please answer the following questions about the program.__\n",
    "1. Which step did you find the most challenging?\n",
    "2. What did you enjoy most about writing the program?\n",
    "3. Please estimate about how long you spent working on this assignment.\n",
    "4. Any other questions, concerns, comments about the program or material we have covered so far?"
   ]
  },
  {
   "cell_type": "markdown",
   "metadata": {},
   "source": [
    "__Answer feedback questions here:__ (double click to edit this text cell)\n",
    "\n",
    "1. \n",
    "\n",
    "2. \n",
    "\n",
    "3. \n",
    "\n",
    "4. "
   ]
  },
  {
   "cell_type": "markdown",
   "metadata": {},
   "source": [
    "## Additional challenges\n",
    "\n",
    "Doing anything additional is strictly optional but can help you learn some extra skills, should you decide to continue experimenting with your program!\n",
    "\n",
    "Just make sure you meet the minimum requirements of the program, and be sure to tell me in the comments anything additional you added to your program.\n",
    "\n",
    "Remember, you can submit as many times as you like!"
   ]
  },
  {
   "cell_type": "markdown",
   "metadata": {},
   "source": [
    "Write a function that blocks a given number (by drawing a grey square on top of it)."
   ]
  }
 ],
 "metadata": {
  "kernelspec": {
   "display_name": "Python 3",
   "language": "python",
   "name": "python3"
  },
  "language_info": {
   "codemirror_mode": {
    "name": "ipython",
    "version": 3
   },
   "file_extension": ".py",
   "mimetype": "text/x-python",
   "name": "python",
   "nbconvert_exporter": "python",
   "pygments_lexer": "ipython3",
   "version": "3.13.0"
  }
 },
 "nbformat": 4,
 "nbformat_minor": 2
}
